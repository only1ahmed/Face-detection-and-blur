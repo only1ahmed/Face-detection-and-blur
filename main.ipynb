{
 "cells": [
  {
   "cell_type": "code",
   "execution_count": 8,
   "id": "88e5aeb7",
   "metadata": {},
   "outputs": [
    {
     "name": "stdout",
     "output_type": "stream",
     "text": [
      "Requirement already satisfied: opencv-python-headless in c:\\users\\gaming\\onedrive\\desktop\\image processing project\\.venv\\lib\\site-packages (4.11.0.86)\n",
      "Requirement already satisfied: numpy>=1.21.2 in c:\\users\\gaming\\onedrive\\desktop\\image processing project\\.venv\\lib\\site-packages (from opencv-python-headless) (2.2.6)\n",
      "Note: you may need to restart the kernel to use updated packages.\n"
     ]
    }
   ],
   "source": [
    "%pip install opencv-python-headless\n",
    "import cv2"
   ]
  },
  {
   "cell_type": "markdown",
   "id": "f8201b8c",
   "metadata": {},
   "source": [
    "# Load pre-trained Haar cascade for face detection"
   ]
  },
  {
   "cell_type": "code",
   "execution_count": 9,
   "id": "4f8f2743",
   "metadata": {},
   "outputs": [],
   "source": [
    "face_cascade = cv2.CascadeClassifier(cv2.data.haarcascades + 'haarcascade_frontalface_default.xml')"
   ]
  },
  {
   "cell_type": "markdown",
   "id": "0df3096a",
   "metadata": {},
   "source": [
    "# Read input image"
   ]
  },
  {
   "cell_type": "code",
   "execution_count": null,
   "id": "706a2ce3",
   "metadata": {},
   "outputs": [],
   "source": [
    "img = cv2.imread('people.jpg')\n",
    "# Convert the image to grayscale\n",
    "gray = cv2.cvtColor(img, cv2.COLOR_BGR2GRAY)"
   ]
  },
  {
   "cell_type": "markdown",
   "id": "a7388703",
   "metadata": {},
   "source": [
    "# Detect faces"
   ]
  },
  {
   "cell_type": "code",
   "execution_count": 11,
   "id": "f1c3278a",
   "metadata": {},
   "outputs": [],
   "source": [
    "faces = face_cascade.detectMultiScale(gray, scaleFactor=1.1, minNeighbors=5)"
   ]
  },
  {
   "cell_type": "markdown",
   "id": "bcca34f6",
   "metadata": {},
   "source": [
    "# Blur each detected face"
   ]
  },
  {
   "cell_type": "code",
   "execution_count": 12,
   "id": "6385e623",
   "metadata": {},
   "outputs": [],
   "source": [
    "for (x, y, w, h) in faces:\n",
    "    face_region = img[y:y+h, x:x+w]\n",
    "    blurred_face = cv2.GaussianBlur(face_region, (51, 51), 30)\n",
    "    img[y:y+h, x:x+w] = blurred_face"
   ]
  },
  {
   "cell_type": "markdown",
   "id": "e0e2b2f1",
   "metadata": {},
   "source": [
    "# Save or display result"
   ]
  },
  {
   "cell_type": "code",
   "execution_count": 13,
   "id": "b8555604",
   "metadata": {},
   "outputs": [
    {
     "data": {
      "text/plain": [
       "True"
      ]
     },
     "execution_count": 13,
     "metadata": {},
     "output_type": "execute_result"
    }
   ],
   "source": [
    "cv2.imwrite('blurred_faces.jpg', img)\n",
    "# cv2.imshow('Blurred Faces', img)\n",
    "# cv2.waitKey(0)\n",
    "# cv2.destroyAllWindows()"
   ]
  }
 ],
 "metadata": {
  "kernelspec": {
   "display_name": ".venv",
   "language": "python",
   "name": "python3"
  },
  "language_info": {
   "codemirror_mode": {
    "name": "ipython",
    "version": 3
   },
   "file_extension": ".py",
   "mimetype": "text/x-python",
   "name": "python",
   "nbconvert_exporter": "python",
   "pygments_lexer": "ipython3",
   "version": "3.13.2"
  }
 },
 "nbformat": 4,
 "nbformat_minor": 5
}
